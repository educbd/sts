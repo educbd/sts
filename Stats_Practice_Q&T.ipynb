{
  "nbformat": 4,
  "nbformat_minor": 0,
  "metadata": {
    "colab": {
      "provenance": [],
      "authorship_tag": "ABX9TyNh9/Y4YWBpE3+/6I704w0c",
      "include_colab_link": true
    },
    "kernelspec": {
      "name": "python3",
      "display_name": "Python 3"
    },
    "language_info": {
      "name": "python"
    }
  },
  "cells": [
    {
      "cell_type": "markdown",
      "metadata": {
        "id": "view-in-github",
        "colab_type": "text"
      },
      "source": [
        "<a href=\"https://colab.research.google.com/github/educbd/sts/blob/main/Stats_Practice_Q%26T.ipynb\" target=\"_parent\"><img src=\"https://colab.research.google.com/assets/colab-badge.svg\" alt=\"Open In Colab\"/></a>"
      ]
    },
    {
      "cell_type": "markdown",
      "source": [
        "# Quiz 1"
      ],
      "metadata": {
        "id": "DaZsQWk_DQWb"
      }
    },
    {
      "cell_type": "markdown",
      "source": [
        "#### Q.1\n",
        "- What is the probability of rolling a _1_ **or** a _2_ on a fair six-sided die?"
      ],
      "metadata": {
        "id": "f0TaWQZXDQWd"
      }
    },
    {
      "cell_type": "markdown",
      "source": [
        "#### Q.2\n",
        "- What is the probability of drawing a _Queen_ **or** a _King_ card from a well-shuffled full deck?"
      ],
      "metadata": {
        "id": "NPi3xjIODQWe"
      }
    },
    {
      "cell_type": "markdown",
      "source": [
        "#### Q.3\n",
        "- What is the probability of drawing a _Jack_ after selecting a _Queen of hearts_ **without replacement** from a well-shuffled full deck?"
      ],
      "metadata": {
        "id": "jiQO_pDKDQWf"
      }
    },
    {
      "cell_type": "markdown",
      "source": [
        "#### Q.4\n",
        "- Select the sampling method in which the data is gathered from a **few groups**:"
      ],
      "metadata": {
        "id": "9DxF7Tl8DQWf"
      }
    },
    {
      "cell_type": "markdown",
      "source": [
        "#### Q.5\n",
        "- What is the probability of drawing a _Queen_ **or** a _Red Card_ from a well-shuffled full deck?"
      ],
      "metadata": {
        "id": "vUdhn6pGDQWh"
      }
    },
    {
      "cell_type": "markdown",
      "source": [
        "# Quiz 2"
      ],
      "metadata": {
        "id": "Ok6yZjMx72j5"
      }
    },
    {
      "cell_type": "markdown",
      "source": [
        "#### Q.1\n",
        "- _Medicine A_ is used to treat certain conditions and has been linked to an increased risk of heart problems. A common alternative treatment is _Medicine B_. A retrospective observational study of 200 patients was carried out. The result are summarized in the contingency table below:\n",
        "\n",
        "- **Heart Problems**\n",
        "\n",
        "Treatment | Yes  | No | Total |\n",
        "-------------------|------------------|------------------|------------------\n",
        "Medicine A | 40       | 20 | 60  |\n",
        "Medicine B | 110      | 30 | 140 |  \n",
        "Total | 150      | 50 | 200 |\n",
        "\n",
        "- What is the probability that a randomly sampled was taking _**Medicine B**_?\n"
      ],
      "metadata": {
        "id": "Vyy1DTgh8Kz3"
      }
    },
    {
      "cell_type": "markdown",
      "source": [
        "#### Q.2\n",
        "- According to the table above, If we know that the patient has heart disease, what is the probability that the patient has recieved _**Medicine B**_?"
      ],
      "metadata": {
        "id": "trEFqIE-97XJ"
      }
    },
    {
      "cell_type": "markdown",
      "source": [
        "#### Q.3\n",
        "- According to the table above, What is the probability that a randomly sampled patient had **NO** heart problems **OR** was taking _**Medicine B**_?"
      ],
      "metadata": {
        "id": "pm_ZmvHLBHF3"
      }
    },
    {
      "cell_type": "markdown",
      "source": [
        "#### Q.4\n",
        "- According to the table above, What is the probability that a randomly sampled patient had **NO** heart problems?"
      ],
      "metadata": {
        "id": "iG_RqcObBpfe"
      }
    },
    {
      "cell_type": "markdown",
      "source": [
        "#### Q.5\n",
        "- According to the table above, What is the probability that a randomly sampled patient had **NO** heart problems **AND** was taking _**Medicine A**_?"
      ],
      "metadata": {
        "id": "dE3j_k5rB7AP"
      }
    },
    {
      "cell_type": "markdown",
      "source": [
        "# Quiz 3"
      ],
      "metadata": {
        "id": "dO5Veeer4MmO"
      }
    },
    {
      "cell_type": "markdown",
      "source": [
        "#### Q.1\n",
        "- 60% of the students love the statistics course.\n",
        "- 25 studebts are chosen at random.\n",
        "- Calculate the following for 68% of the students:\n",
        " - The standard error\n",
        " - Upper limit of the Confidence Interval\n",
        " - Lower limit of the Confidence Interval"
      ],
      "metadata": {
        "id": "NXhiezPf4REp"
      }
    },
    {
      "cell_type": "markdown",
      "source": [
        "#### Q.2\n",
        "- A spam filter blocks 96% of spam messages. Howevwer, it also incorrectly blocks 5% of the messages that are not spam. If 80% of the messages that the spam filter process are spam, what is the probability that a message that is not blocked is actually a spam?"
      ],
      "metadata": {
        "id": "qsaJUszV46js"
      }
    },
    {
      "cell_type": "markdown",
      "source": [
        "#### Q.3\n",
        "- Calculate the mean of the sample of means foor the following samples:\n",
        "  - S1 = [4,6]\n",
        "  - S2 = [5,5]"
      ],
      "metadata": {
        "id": "OU3t-csP5VQk"
      }
    },
    {
      "cell_type": "markdown",
      "source": [
        "#### Q.4\n",
        "- A survey indicates that 60% of students plan to register for a course over the summer. The sample size is (n=25). You can assume the population is normally distributed, and the survey was not-biased.\n",
        "  - a) What is the standard error?\n",
        "  - b) What is the confidence interval withing 68% of the distribution?"
      ],
      "metadata": {
        "id": "bNnqIdbV5mgN"
      }
    },
    {
      "cell_type": "markdown",
      "source": [
        "#### Q.5\n",
        "- The average student who takes a college admission test scores 1000 points. A course claims that students who complete the course consistently higher than the average. Select the type of hypotesis test:"
      ],
      "metadata": {
        "id": "sRYy9HfH68pI"
      }
    },
    {
      "cell_type": "markdown",
      "source": [
        "#### Q.6\n",
        "- According to the Central Limit Theorem, which of the following needs to be true so that the independence condition is satisfied:"
      ],
      "metadata": {
        "id": "GvDgR4Wp7dF3"
      }
    },
    {
      "cell_type": "markdown",
      "source": [
        "# Test 1"
      ],
      "metadata": {
        "id": "qCWq-ol0FJGA"
      }
    },
    {
      "cell_type": "markdown",
      "source": [
        "#### Q.1\n",
        "- If the mean student score on an exam is 90 and the standard deviation is 2:\n",
        "  - How many standard devietions from the mean is the score of 100?\n",
        "  - Write your answer wothout decimal points."
      ],
      "metadata": {
        "id": "WA-2Di6EFJGc"
      }
    },
    {
      "cell_type": "markdown",
      "source": [
        "#### Q.2\n",
        "- **Heart Problems**\n",
        "\n",
        "Treatment | Yes  | No | Total |\n",
        "-------------------|------------------|------------------|------------------\n",
        "Medicine A | 40       | 20 | 60  |\n",
        "Medicine B | 110      | 30 | 140 |  \n",
        "Total | 150      | 50 | 200 |\n",
        "\n",
        "- According to the table above, What is the probability that a randomly sampled patient had **NO** heart problems **AND** was taking _Medicine A_?"
      ],
      "metadata": {
        "id": "WMCXMYhkFJGd"
      }
    },
    {
      "cell_type": "markdown",
      "source": [
        "#### Q.3\n",
        "- Test scores are distributed nearly normally, with a mean score of 95 and a standard deviation of 5.\n",
        "  - What is the cutoff for the lowest 15.87% of test takers?\n",
        "  - Write your answer without decimal points."
      ],
      "metadata": {
        "id": "y3ivQS4BFJGd"
      }
    },
    {
      "cell_type": "markdown",
      "source": [
        "#### Q.4\n",
        "- Use the z-table to find the region bounded by:\n",
        "  - **P(-1.43 < Z < 1.43)**\n",
        "  - Write your answer **with** four decimal points."
      ],
      "metadata": {
        "id": "z4LVGUD1FJGd"
      }
    },
    {
      "cell_type": "markdown",
      "source": [
        "#### Q.5\n",
        "- Use the z-table to find the region bounded by:\n",
        "  - **P(Z > 1.11)**\n",
        "  - Write your answer **with** four decimal points."
      ],
      "metadata": {
        "id": "MZl7PF2wFJGe"
      }
    },
    {
      "cell_type": "markdown",
      "source": [
        "#### Q.6\n",
        "- Use the z-table to find the region bounded by:\n",
        "  - **P(Z < 1.11)**\n",
        "  - Write your answer **with** four decimal points."
      ],
      "metadata": {
        "id": "jcOo1ghSFJGe"
      }
    },
    {
      "cell_type": "markdown",
      "source": [
        "#### Q.7\n",
        "- What is the standard deviation for a dataset represented by a normal distribution with 1,500 of mean:\n",
        "\n",
        "1440 | 1460  | 1480 | *1500** | 1520 | 1540 | 1560\n",
        "-------------------|------------------|------------------|------------------|------------------|------------------|------------------"
      ],
      "metadata": {
        "id": "3El_c7iJHajO"
      }
    },
    {
      "cell_type": "markdown",
      "source": [
        "#### Q.8\n",
        "- In a city, 80% of the population owns a car, 60% owns a bicycle and 40% owns both a car and a bicycle. If a person is randomly selected from the city:\n",
        "  - What is the probability that they own a bicycle, given that they own a car?\n",
        "  - Write your answer **with** four decimal points."
      ],
      "metadata": {
        "id": "c9AkxF1hIue5"
      }
    },
    {
      "cell_type": "markdown",
      "source": [
        "#### Q.9\n",
        "- You work for an automotive company and you have been tasked with planning staffing levels to support work in the maintenance department related to engine warranty claims. You need to determine the probability of engine failure based on the volume of recent sales.\n",
        "- Engine repair rates = **8%**\n",
        "  - Among a random sample of **5** cars sold, what is the probability that only **2** will requiere an engine repair?\n",
        "  - Write your answer **with** four decimal points."
      ],
      "metadata": {
        "id": "czlkeqyuJkCe"
      }
    },
    {
      "cell_type": "markdown",
      "source": [
        "#### Q.10\n",
        "- Yen, an amateur motorcycle racer, averages 129.71 seconds per 2.5 mile-lap (in a seven-lap race) with a standard deviatioin of 2.28 seconds. If the distribution of her race times is normally distributed, which of the followings is true?"
      ],
      "metadata": {
        "id": "NQDn8nekK4cp"
      }
    },
    {
      "cell_type": "markdown",
      "source": [
        "#### Q.11\n",
        "- Test scores are distributed nearly normally, with a mean score of 1000 and a standard deviation of 100.\n",
        "  - What is the lowest score in which **~95%** of students fall **under**?\n",
        "  - Write your answer without decimal points."
      ],
      "metadata": {
        "id": "O6sAzDoBLo-2"
      }
    },
    {
      "cell_type": "markdown",
      "source": [
        "# Test 2"
      ],
      "metadata": {
        "id": "U0puUyJCNezU"
      }
    },
    {
      "cell_type": "markdown",
      "source": [
        "#### Q.1 ---- Bayesian Probability\n",
        "- A spam filter blocks 96% of spam messages. However, it also incorrectly blocks 5% of the messages that are not spam. If 80% of the messages that the spam filter processes are spam:\n",
        "  - what is the probability that a message that is blocked is actually spam?"
      ],
      "metadata": {
        "id": "-QA-z3J3Nezr"
      }
    },
    {
      "cell_type": "code",
      "source": [
        "P_S = 0.8\n",
        "P_B_S = 0.96\n",
        "P_B_NS = 0.05\n",
        "\n",
        "P_S_B = P_B_S * P_S / ( P_B_S * P_S + P_B_NS * ( 1 - P_S ) )\n",
        "print(f'{P_S_B: .2%}')"
      ],
      "metadata": {
        "colab": {
          "base_uri": "https://localhost:8080/"
        },
        "id": "IvH0lh_6W7eN",
        "outputId": "0ed9b06c-eca0-4c0d-e036-d7ec697fd9c4"
      },
      "execution_count": 21,
      "outputs": [
        {
          "output_type": "stream",
          "name": "stdout",
          "text": [
            " 98.71%\n"
          ]
        }
      ]
    },
    {
      "cell_type": "markdown",
      "source": [
        "#### Q.2 ---- Poisson Distribution\n",
        "- A real estate agent store shows an average 5 houses per week. Calculate the probability that this agent will show 4 houses on a given day using the Poisson distribution."
      ],
      "metadata": {
        "id": "v6QxxgjRNezs"
      }
    },
    {
      "cell_type": "code",
      "source": [
        "from scipy.stats import poisson\n",
        "k = 4\n",
        "L = 5/7\n",
        "\n",
        "# poisson.pmf(k, L)\n",
        "print(f'{poisson.pmf(k, L): .2%}')"
      ],
      "metadata": {
        "colab": {
          "base_uri": "https://localhost:8080/"
        },
        "id": "fQ02xxGwYJlD",
        "outputId": "e0ef68e0-2df4-4de0-ca2c-bd50b1d936ac"
      },
      "execution_count": 23,
      "outputs": [
        {
          "output_type": "stream",
          "name": "stdout",
          "text": [
            " 0.53%\n"
          ]
        }
      ]
    },
    {
      "cell_type": "markdown",
      "source": [
        "#### Q.3 ---- Confidence Interval\n",
        "- A store randomly samples 603 shoppers over the course of a year and finds that 142 of them made their visit because of a coupon they’d received in the mail.\n",
        "  - 1) Confirm that the success-failure condition is satisfied.\n",
        "  - 2) Calculate the Standard Error value.\n",
        "  - 3) For a 95% confidence level, calculate the confidence interval."
      ],
      "metadata": {
        "id": "cqoFxJroNezs"
      }
    },
    {
      "cell_type": "code",
      "source": [
        "import numpy as np\n",
        "from scipy import stats\n",
        "n = 603\n",
        "n_n = 142\n",
        "\n",
        "# 1) Succes-Failure condition:\n",
        "p = n_n/n\n",
        "if (n*(1-p)) > 10 and (n*p) > 10:\n",
        "  print('Success')\n",
        "else:\n",
        "  print('Failure')\n",
        "\n",
        "# 2) Standard Error:\n",
        "SE = np.sqrt((p*(1-p))/n)\n",
        "print('Standard Error:', SE)\n",
        "\n",
        "# 3) Confidence Interval\n",
        "cl = 0.95\n",
        "stats.norm.interval(cl, p, SE)"
      ],
      "metadata": {
        "colab": {
          "base_uri": "https://localhost:8080/"
        },
        "id": "XZvrT-acYvUs",
        "outputId": "4e8943b6-ac3a-411a-a397-48937c3b1efd"
      },
      "execution_count": 6,
      "outputs": [
        {
          "output_type": "stream",
          "name": "stdout",
          "text": [
            "Success\n",
            "Standard Error: 0.01727900246846652\n"
          ]
        },
        {
          "output_type": "execute_result",
          "data": {
            "text/plain": [
              "(0.20162299803687436, 0.2693554430908205)"
            ]
          },
          "metadata": {},
          "execution_count": 6
        }
      ]
    },
    {
      "cell_type": "markdown",
      "source": [
        "#### Q.4 ---- Normal Distribution\n",
        "- What percent of a standard normal distribution N (μ = 0,σ = 1) is found in each region?\n",
        "  - a) Z < -1.45\n",
        "  - b) Z > 1.18\n",
        "  - c) -0.4 < Z < 2.1"
      ],
      "metadata": {
        "id": "TMTaHO93Nezt"
      }
    },
    {
      "cell_type": "code",
      "source": [
        "from scipy.stats import norm\n",
        "# a)\n",
        "Za = -1.45\n",
        "norm.cdf(Za)\n",
        "print(f'{norm.cdf(Za): .2%}')\n",
        "\n",
        "# b)\n",
        "Zb = 1.18\n",
        "norm.cdf(Zb)\n",
        "print(f'{norm.cdf(Zb): .2%}')\n",
        "\n",
        "# c)\n",
        "Z_lo = -0.4\n",
        "Z_up = 2.1\n",
        "perc = norm.cdf(Z_up) - norm.cdf(Z_lo)\n",
        "print(f'{perc: .2%}')\n"
      ],
      "metadata": {
        "colab": {
          "base_uri": "https://localhost:8080/"
        },
        "id": "N7auNEQ-bBsY",
        "outputId": "52c55491-c409-4bd1-dd0a-bc6184b6c756"
      },
      "execution_count": 24,
      "outputs": [
        {
          "output_type": "stream",
          "name": "stdout",
          "text": [
            " 7.35%\n",
            " 88.10%\n",
            " 63.76%\n"
          ]
        }
      ]
    },
    {
      "cell_type": "markdown",
      "source": [
        "#### Q.5 ---- Geometric Distribution\n",
        "- A salesperson will be calling on potential customers until a sale is made. The product is not very popular and there is only a 15% probability that a customer will purchase the product.\n",
        "  - What is the probability of that the salesperson will make a sale on the 12th attempt?"
      ],
      "metadata": {
        "id": "mRaZOUNLNezu"
      }
    },
    {
      "cell_type": "code",
      "source": [
        "from scipy.stats import geom\n",
        "p = 0.15\n",
        "n = 12\n",
        "\n",
        "geom.pmf(n,p)\n",
        "print(f'{geom.pmf(n,p): .2%}')"
      ],
      "metadata": {
        "colab": {
          "base_uri": "https://localhost:8080/"
        },
        "id": "8mGyaibSdTgq",
        "outputId": "4e081045-89b5-4c76-c242-8387dd51eb3d"
      },
      "execution_count": 25,
      "outputs": [
        {
          "output_type": "stream",
          "name": "stdout",
          "text": [
            " 2.51%\n"
          ]
        }
      ]
    },
    {
      "cell_type": "markdown",
      "source": [
        "#### Q.6 ---- Negative Binomial Distribution\n",
        "- A not-so-skilled volleyball player has a **15%** chance of making the serve. Suppose that her serves are independent of each other.\n",
        "  - What is the probability that on the **10th** try she will make her **3rd** successful serve?"
      ],
      "metadata": {
        "id": "AkQPj5gxNezu"
      }
    },
    {
      "cell_type": "code",
      "source": [
        "from scipy.stats import nbinom\n",
        "n = 10\n",
        "k = 3\n",
        "f = n-k\n",
        "p = 0.15\n",
        "\n",
        "print(f'{nbinom.pmf(f, k, p): .2%}')"
      ],
      "metadata": {
        "colab": {
          "base_uri": "https://localhost:8080/"
        },
        "id": "NUxt3iPCfndZ",
        "outputId": "2b6190d6-5f0b-47c0-f830-95f0a7fc17eb"
      },
      "execution_count": 35,
      "outputs": [
        {
          "output_type": "stream",
          "name": "stdout",
          "text": [
            " 3.90%\n"
          ]
        }
      ]
    },
    {
      "cell_type": "markdown",
      "source": [
        "#### Q.7 ---- Confidence Interval\n",
        "- **45%** of adults report that they live with one or more chronic conditions. However, _this value was based on a sample_, so it may not be a perfect estimate for the population. The study reported a standard error of about **1.2%**, and a normal model may be used in this setting.\n",
        "  - 1) Create a confidence interval for the proportion of adults who live with one or more chronic conditions using a confidence level of **95%**.\n",
        "  - 2) Create a confidence interval for the proportion of adults who live with one or more chronic conditions using a confidence level of **68%**."
      ],
      "metadata": {
        "id": "EbbsvUeINezu"
      }
    },
    {
      "cell_type": "code",
      "source": [
        "from scipy.stats import norm\n",
        "p = 0.45\n",
        "SE = 0.012\n",
        "cl1 = 0.95\n",
        "cl2 = 0.68\n",
        "\n",
        "print(norm.interval(cl1, p, SE))\n",
        "print(norm.interval(cl2, p, SE))"
      ],
      "metadata": {
        "colab": {
          "base_uri": "https://localhost:8080/"
        },
        "id": "gtMLIJkjf7O9",
        "outputId": "bb1ab46e-1f99-4f1b-b8a7-5455c6fb5172"
      },
      "execution_count": 28,
      "outputs": [
        {
          "output_type": "stream",
          "name": "stdout",
          "text": [
            "(0.42648043218551934, 0.4735195678144807)\n",
            "(0.43806650540148295, 0.46193349459851707)\n"
          ]
        }
      ]
    },
    {
      "cell_type": "markdown",
      "source": [
        "# Miscellaneous"
      ],
      "metadata": {
        "id": "2rmM2Dq6Qmag"
      }
    },
    {
      "cell_type": "markdown",
      "source": [
        "#### Q.1 ---- Binomial Distribution\n",
        "- Unemployment rate = 7.9% Among a random sample of **three** people,\n",
        "  - What is the probability that only **one** is unemployed?"
      ],
      "metadata": {
        "id": "f7bleVxpQmax"
      }
    },
    {
      "cell_type": "code",
      "source": [
        "from scipy.stats import binom\n",
        "k = 1\n",
        "n = 3\n",
        "p = 0.079\n",
        "\n",
        "binom.pmf(k, n, p)\n",
        "print(f'{binom.pmf(k, n, p): .2%}')"
      ],
      "metadata": {
        "colab": {
          "base_uri": "https://localhost:8080/"
        },
        "id": "OlxO7NVHWJAI",
        "outputId": "a470df78-75b2-4a08-9ac2-2394fbce4495"
      },
      "execution_count": 20,
      "outputs": [
        {
          "output_type": "stream",
          "name": "stdout",
          "text": [
            " 20.10%\n"
          ]
        }
      ]
    },
    {
      "cell_type": "markdown",
      "source": [
        "#### Q.2 ----  T-Distribution\n",
        "- A sample of 10 is selected from a population. Considering a normal distribution with a **95%** of Confidency level, calculate a two tailed t-distribution **(t*)**:\n",
        "- n = 10\n",
        "- df = (n-1) = 9\n",
        "- t* is at the intersection of rows\n",
        "- Two tail probability **0.05**"
      ],
      "metadata": {
        "id": "9HFlakKSQmax"
      }
    },
    {
      "cell_type": "code",
      "source": [
        "from scipy.stats import t\n",
        "n = 10\n",
        "df = n-1\n",
        "alpha = 0.05\n",
        "\n",
        "t_star = t.ppf(1-alpha/2, df)\n",
        "print(f'{t_star: .5}')"
      ],
      "metadata": {
        "colab": {
          "base_uri": "https://localhost:8080/"
        },
        "id": "kLc7GqqBVQzK",
        "outputId": "5d69beb9-c382-41d4-bbb7-37b69429b32f"
      },
      "execution_count": 34,
      "outputs": [
        {
          "output_type": "stream",
          "name": "stdout",
          "text": [
            " 2.2622\n"
          ]
        }
      ]
    },
    {
      "cell_type": "markdown",
      "source": [
        "#### Q.3 ----  Geometric Distribution\n",
        "- Calculate the probability of rolling a **6** for the **first time** on the **6th** roll of a die using the geometric distribution."
      ],
      "metadata": {
        "id": "xpCRg1-Wjmk2"
      }
    },
    {
      "cell_type": "code",
      "source": [
        "from scipy.stats import geom\n",
        "p = 1/6\n",
        "n = 6\n",
        "print(f'{geom.pmf(n,p): .2%}')"
      ],
      "metadata": {
        "colab": {
          "base_uri": "https://localhost:8080/"
        },
        "id": "wNgAidRoj44W",
        "outputId": "d87a334a-3d6b-487f-c334-e480ae71a270"
      },
      "execution_count": 37,
      "outputs": [
        {
          "output_type": "stream",
          "name": "stdout",
          "text": [
            " 6.70%\n"
          ]
        }
      ]
    },
    {
      "cell_type": "markdown",
      "source": [
        "#### Q.4 ----  P-value\n",
        "- What is the probability that the number of women chosen from a sample of 50 would be 36 or more?"
      ],
      "metadata": {
        "id": "eb4y4k1LlI6B"
      }
    },
    {
      "cell_type": "code",
      "source": [
        "import math\n",
        "n = 50 #samples\n",
        "k = 36 # of scenarios\n",
        "Pw = 0.5\n",
        "print(f'{binom.pmf(k, n, Pw): .4%}')\n",
        "\n",
        "print(math.comb(n, k)) #probability of one scenario\n",
        "# dif_k = n-k\n",
        "# prob = (Pw**k) * (Pw**dif_k) #P-value"
      ],
      "metadata": {
        "colab": {
          "base_uri": "https://localhost:8080/"
        },
        "id": "4ieywCTfleyn",
        "outputId": "731ce2b3-6a3c-4c60-a273-30b6f8786d5d"
      },
      "execution_count": 69,
      "outputs": [
        {
          "output_type": "stream",
          "name": "stdout",
          "text": [
            " 0.0833%\n",
            "937845656300\n"
          ]
        }
      ]
    }
  ]
}