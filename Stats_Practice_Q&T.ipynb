{
  "nbformat": 4,
  "nbformat_minor": 0,
  "metadata": {
    "colab": {
      "provenance": [],
      "authorship_tag": "ABX9TyMRX8CZIcOVBVcpfXCBp0sK",
      "include_colab_link": true
    },
    "kernelspec": {
      "name": "python3",
      "display_name": "Python 3"
    },
    "language_info": {
      "name": "python"
    }
  },
  "cells": [
    {
      "cell_type": "markdown",
      "metadata": {
        "id": "view-in-github",
        "colab_type": "text"
      },
      "source": [
        "<a href=\"https://colab.research.google.com/github/educbd/sts/blob/main/Stats_Practice_Q%26T.ipynb\" target=\"_parent\"><img src=\"https://colab.research.google.com/assets/colab-badge.svg\" alt=\"Open In Colab\"/></a>"
      ]
    },
    {
      "cell_type": "markdown",
      "source": [
        "# Quiz 1"
      ],
      "metadata": {
        "id": "DaZsQWk_DQWb"
      }
    },
    {
      "cell_type": "markdown",
      "source": [
        "#### Q.1\n",
        "- What is the probability of rolling a _1_ **or** a _2_ on a fair six-sided die?"
      ],
      "metadata": {
        "id": "f0TaWQZXDQWd"
      }
    },
    {
      "cell_type": "markdown",
      "source": [
        "#### Q.2\n",
        "- What is the probability of drawing a _Queen_ **or** a _King_ card from a well-shuffled full deck?"
      ],
      "metadata": {
        "id": "NPi3xjIODQWe"
      }
    },
    {
      "cell_type": "markdown",
      "source": [
        "#### Q.3\n",
        "- What is the probability of drawing a _Jack_ after selecting a _Queen of hearts_ **without replacement** from a well-shuffled full deck?"
      ],
      "metadata": {
        "id": "jiQO_pDKDQWf"
      }
    },
    {
      "cell_type": "markdown",
      "source": [
        "#### Q.4\n",
        "- Select the sampling method in which the data is gathered from a **few groups**:"
      ],
      "metadata": {
        "id": "9DxF7Tl8DQWf"
      }
    },
    {
      "cell_type": "markdown",
      "source": [
        "#### Q.5\n",
        "- What is the probability of drawing a _Queen_ **or** a _Red Card_ from a well-shuffled full deck?"
      ],
      "metadata": {
        "id": "vUdhn6pGDQWh"
      }
    },
    {
      "cell_type": "markdown",
      "source": [
        "# Quiz 2"
      ],
      "metadata": {
        "id": "Ok6yZjMx72j5"
      }
    },
    {
      "cell_type": "markdown",
      "source": [
        "#### Q.1\n",
        "- _Medicine A_ is used to treat certain conditions and has been linked to an increased risk of heart problems. A common alternative treatment is _Medicine B_. A retrospective observational study of 200 patients was carried out. The result are summarized in the contingency table below:\n",
        "\n",
        "- **Heart Problems**\n",
        "\n",
        "Treatment | Yes  | No | Total |\n",
        "-------------------|------------------|------------------|------------------\n",
        "Medicine A | 40       | 20 | 60  |\n",
        "Medicine B | 110      | 30 | 140 |  \n",
        "Total | 150      | 50 | 200 |\n",
        "\n",
        "- What is the probability that a randomly sampled was taking _**Medicine B**_?\n"
      ],
      "metadata": {
        "id": "Vyy1DTgh8Kz3"
      }
    },
    {
      "cell_type": "markdown",
      "source": [
        "#### Q.2\n",
        "- According to the table above, If we know that the patient has heart disease, what is the probability that the patient has recieved _**Medicine B**_?"
      ],
      "metadata": {
        "id": "trEFqIE-97XJ"
      }
    },
    {
      "cell_type": "markdown",
      "source": [
        "#### Q.3\n",
        "- According to the table above, What is the probability that a randomly sampled patient had **NO** heart problems **OR** was taking _**Medicine B**_?"
      ],
      "metadata": {
        "id": "pm_ZmvHLBHF3"
      }
    },
    {
      "cell_type": "markdown",
      "source": [
        "#### Q.4\n",
        "- According to the table above, What is the probability that a randomly sampled patient had **NO** heart problems?"
      ],
      "metadata": {
        "id": "iG_RqcObBpfe"
      }
    },
    {
      "cell_type": "markdown",
      "source": [
        "#### Q.5\n",
        "- According to the table above, What is the probability that a randomly sampled patient had **NO** heart problems **AND** was taking _**Medicine A**_?"
      ],
      "metadata": {
        "id": "dE3j_k5rB7AP"
      }
    },
    {
      "cell_type": "markdown",
      "source": [
        "# Quiz 3"
      ],
      "metadata": {
        "id": "dO5Veeer4MmO"
      }
    },
    {
      "cell_type": "markdown",
      "source": [
        "#### Q.1\n",
        "- 60% of the students love the statistics course.\n",
        "- 25 studebts are chosen at random.\n",
        "- Calculate the following for 68% of the students:\n",
        " - The standard error\n",
        " - Upper limit of the Confidence Interval\n",
        " - Lower limit of the Confidence Interval"
      ],
      "metadata": {
        "id": "NXhiezPf4REp"
      }
    },
    {
      "cell_type": "markdown",
      "source": [
        "#### Q.2\n",
        "- A spam filter blocks 96% of spam messages. Howevwer, it also incorrectly blocks 5% of the messages that are not spam. If 80% of the messages that the spam filter process are spam, what is the probability that a message that is not blocked is actually a spam?"
      ],
      "metadata": {
        "id": "qsaJUszV46js"
      }
    },
    {
      "cell_type": "markdown",
      "source": [
        "#### Q.3\n",
        "- Calculate the mean of the sample of means foor the following samples:\n",
        "  - S1 = [4,6]\n",
        "  - S2 = [5,5]"
      ],
      "metadata": {
        "id": "OU3t-csP5VQk"
      }
    },
    {
      "cell_type": "markdown",
      "source": [
        "#### Q.4\n",
        "- A survey indicates that 60% of students plan to register for a course over the summer. The sample size is (n=25). You can assume the population is normally distributed, and the survey was not-biased.\n",
        "  - a) What is the standard error?\n",
        "  - b) What is the confidence interval withing 68% of the distribution?"
      ],
      "metadata": {
        "id": "bNnqIdbV5mgN"
      }
    },
    {
      "cell_type": "markdown",
      "source": [
        "#### Q.5\n",
        "- The average student who takes a college admission test scores 1000 points. A course claims that students who complete the course consistently higher than the average. Select the type of hypotesis test:"
      ],
      "metadata": {
        "id": "sRYy9HfH68pI"
      }
    },
    {
      "cell_type": "markdown",
      "source": [
        "#### Q.6\n",
        "- According to the Central Limit Theorem, which of the following needs to be true so that the independence condition is satisfied:"
      ],
      "metadata": {
        "id": "GvDgR4Wp7dF3"
      }
    },
    {
      "cell_type": "markdown",
      "source": [
        "# Test 1"
      ],
      "metadata": {
        "id": "qCWq-ol0FJGA"
      }
    },
    {
      "cell_type": "markdown",
      "source": [
        "#### Q.1\n",
        "- If the mean student score on an exam is 90 and the standard deviation is 2:\n",
        "  - How many standard devietions from the mean is the score of 100?\n",
        "  - Write your answer wothout decimal points."
      ],
      "metadata": {
        "id": "WA-2Di6EFJGc"
      }
    },
    {
      "cell_type": "markdown",
      "source": [
        "#### Q.2\n",
        "- **Heart Problems**\n",
        "\n",
        "Treatment | Yes  | No | Total |\n",
        "-------------------|------------------|------------------|------------------\n",
        "Medicine A | 40       | 20 | 60  |\n",
        "Medicine B | 110      | 30 | 140 |  \n",
        "Total | 150      | 50 | 200 |\n",
        "\n",
        "- According to the table above, What is the probability that a randomly sampled patient had **NO** heart problems **AND** was taking _Medicine A_?"
      ],
      "metadata": {
        "id": "WMCXMYhkFJGd"
      }
    },
    {
      "cell_type": "markdown",
      "source": [
        "#### Q.3\n",
        "- Test scores are distributed nearly normally, with a mean score of 95 and a standard deviation of 5.\n",
        "  - What is the cutoff for the lowest 15.87% of test takers?\n",
        "  - Write your answer without decimal points."
      ],
      "metadata": {
        "id": "y3ivQS4BFJGd"
      }
    },
    {
      "cell_type": "markdown",
      "source": [
        "#### Q.4\n",
        "- Use the z-table to find the region bounded by:\n",
        "  - **P(-1.43 < Z < 1.43)**\n",
        "  - Write your answer **with** four decimal points."
      ],
      "metadata": {
        "id": "z4LVGUD1FJGd"
      }
    },
    {
      "cell_type": "markdown",
      "source": [
        "#### Q.5\n",
        "- Use the z-table to find the region bounded by:\n",
        "  - **P(Z > 1.11)**\n",
        "  - Write your answer **with** four decimal points."
      ],
      "metadata": {
        "id": "MZl7PF2wFJGe"
      }
    },
    {
      "cell_type": "markdown",
      "source": [
        "#### Q.6\n",
        "- Use the z-table to find the region bounded by:\n",
        "  - **P(Z < 1.11)**\n",
        "  - Write your answer **with** four decimal points."
      ],
      "metadata": {
        "id": "jcOo1ghSFJGe"
      }
    },
    {
      "cell_type": "markdown",
      "source": [
        "#### Q.7\n",
        "- What is the standard deviation for a dataset represented by a normal distribution with 1,500 of mean:\n",
        "\n",
        "1440 | 1460  | 1480 | *1500** | 1520 | 1540 | 1560\n",
        "-------------------|------------------|------------------|------------------|------------------|------------------|------------------"
      ],
      "metadata": {
        "id": "3El_c7iJHajO"
      }
    },
    {
      "cell_type": "markdown",
      "source": [
        "#### Q.8\n",
        "- In a city, 80% of the population owns a car, 60% owns a bicycle and 40% owns both a car and a bicycle. If a person is randomly selected from the city:\n",
        "  - What is the probability that they own a bicycle, given that they own a car?\n",
        "  - Write your answer **with** four decimal points."
      ],
      "metadata": {
        "id": "c9AkxF1hIue5"
      }
    },
    {
      "cell_type": "markdown",
      "source": [
        "#### Q.9\n",
        "- You work for an automotive company and you have been tasked with planning staffing levels to support work in the maintenance department related to engine warranty claims. You need to determine the probability of engine failure based on the volume of recent sales.\n",
        "- Engine repair rates = **8%**\n",
        "  - Among a random sample of **5** cars sold, what is the probability that only **2** will requiere an engine repair?\n",
        "  - Write your answer **with** four decimal points."
      ],
      "metadata": {
        "id": "czlkeqyuJkCe"
      }
    },
    {
      "cell_type": "markdown",
      "source": [
        "#### Q.10\n",
        "- Yen, an amateur motorcycle racer, averages 129.71 seconds per 2.5 mile-lap (in a seven-lap race) with a standard deviatioin of 2.28 seconds. If the distribution of her race times is normally distributed, which of the followings is true?"
      ],
      "metadata": {
        "id": "NQDn8nekK4cp"
      }
    },
    {
      "cell_type": "markdown",
      "source": [
        "#### Q.11\n",
        "- Test scores are distributed nearly normally, with a mean score of 1000 and a standard deviation of 100.\n",
        "  - What is the lowest score in which **~95%** of students fall **under**?\n",
        "  - Write your answer without decimal points."
      ],
      "metadata": {
        "id": "O6sAzDoBLo-2"
      }
    },
    {
      "cell_type": "markdown",
      "source": [
        "# Test 2"
      ],
      "metadata": {
        "id": "U0puUyJCNezU"
      }
    },
    {
      "cell_type": "markdown",
      "source": [
        "#### Q.1\n",
        "- A spam filter blocks 96% of spam messages. However, it also incorrectly blocks 5% of the messages that are not spam. If 80% of the messages that the spam filter processes are spam:\n",
        "  - what is the probability that a message that is blocked is actually spam?"
      ],
      "metadata": {
        "id": "-QA-z3J3Nezr"
      }
    },
    {
      "cell_type": "markdown",
      "source": [
        "#### Q.2\n",
        "- A real estate agent store shows an average 5 houses per week. Calculate the probability that this agent will show 4 houses on a given day using the Poisson distribution."
      ],
      "metadata": {
        "id": "v6QxxgjRNezs"
      }
    },
    {
      "cell_type": "markdown",
      "source": [
        "#### Q.3\n",
        "- A store randomly samples 603 shoppers over the course of a year and finds that 142 of them made their visit because of a coupon they’d received in the mail.\n",
        "  - 1) Confirm that the success-failure condition is satisfied.\n",
        "  - 2) Calculate the Standard Error value.\n",
        "  - 3) For a 95% confidence level, calculate the confidence interval."
      ],
      "metadata": {
        "id": "cqoFxJroNezs"
      }
    },
    {
      "cell_type": "markdown",
      "source": [
        "#### Q.4\n",
        "- What percent of a standard normal distribution N (μ = 0,σ = 1) is found in each region?\n",
        "  - a) Z < -1.45\n",
        "  - b) Z > 1.18\n",
        "  - c) -0.4 < Z < 2.1"
      ],
      "metadata": {
        "id": "TMTaHO93Nezt"
      }
    },
    {
      "cell_type": "markdown",
      "source": [
        "#### Q.5\n",
        "- A salesperson will be calling on potential customers until a sale is made. The product is not very popular and there is only a 15% probability that a customer will purchase the product.\n",
        "  - What is the probability of that the salesperson will make a sale on the 12th attempt?"
      ],
      "metadata": {
        "id": "mRaZOUNLNezu"
      }
    },
    {
      "cell_type": "markdown",
      "source": [
        "#### Q.6\n",
        "- A not-so-skilled volleyball player has a **15%** chance of making the serve. Suppose that her serves are independent of each other.\n",
        "  - What is the probability that on the **10th** try she will make her **3rd** successful serve?"
      ],
      "metadata": {
        "id": "AkQPj5gxNezu"
      }
    },
    {
      "cell_type": "markdown",
      "source": [
        "#### Q.7\n",
        "- **45%** of adults report that they live with one or more chronic conditions. However, _this value was based on a sample_, so it may not be a perfect estimate for the population. The study reported a standard error of about **1.2%**, and a normal model may be used in this setting.\n",
        "  - Create a confidence interval for the proportion of adults who live with one or more chronic conditions using a confidence level of **95%**."
      ],
      "metadata": {
        "id": "EbbsvUeINezu"
      }
    },
    {
      "cell_type": "markdown",
      "source": [
        "# Miscellaneous"
      ],
      "metadata": {
        "id": "2rmM2Dq6Qmag"
      }
    },
    {
      "cell_type": "markdown",
      "source": [
        "#### Q.1 ---- Binomial Distribution\n",
        "- Unemployment rate = 7.9% Among a random sample of **three** people,\n",
        "  - What is the probability that only **one** is unemployed?"
      ],
      "metadata": {
        "id": "f7bleVxpQmax"
      }
    },
    {
      "cell_type": "code",
      "source": [
        "from scipy.stats import binom\n",
        "k = 1\n",
        "n = 3\n",
        "p = 0.079\n",
        "\n",
        "# binom.pmf(k, n, p)\n",
        "print(\"{:.2f}\".format(binom.pmf(k, n, p)*100),\"%\")"
      ],
      "metadata": {
        "colab": {
          "base_uri": "https://localhost:8080/"
        },
        "id": "OlxO7NVHWJAI",
        "outputId": "075be204-e6b0-4bc6-cd3c-b1b1ac77c929"
      },
      "execution_count": 3,
      "outputs": [
        {
          "output_type": "stream",
          "name": "stdout",
          "text": [
            "20.10 %\n"
          ]
        }
      ]
    },
    {
      "cell_type": "markdown",
      "source": [
        "#### Q.2 ----  T-Distribution\n",
        "- A sample of 10 is selected from a population. Considering a normal distribution with a **95%** of Confidency level, calculate a two tailed t-distribution **(t*)**:\n",
        "- n = 10\n",
        "- df = (n-1) = 9\n",
        "- t* is at the intersection of rows\n",
        "- Two tail probability **0.05**"
      ],
      "metadata": {
        "id": "9HFlakKSQmax"
      }
    },
    {
      "cell_type": "code",
      "source": [
        "from scipy.stats import t\n",
        "n = 10\n",
        "df = n-1\n",
        "alpha = 0.05\n",
        "\n",
        "t_star = t.ppf(1-alpha/2, df)\n",
        "print(t_star)"
      ],
      "metadata": {
        "colab": {
          "base_uri": "https://localhost:8080/"
        },
        "id": "kLc7GqqBVQzK",
        "outputId": "b08d7f9d-edda-488f-8bc4-3dd3ed8b5f6c"
      },
      "execution_count": 1,
      "outputs": [
        {
          "output_type": "stream",
          "name": "stdout",
          "text": [
            "2.2621571627409915\n"
          ]
        }
      ]
    }
  ]
}