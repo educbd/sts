{
  "nbformat": 4,
  "nbformat_minor": 0,
  "metadata": {
    "colab": {
      "provenance": [],
      "include_colab_link": true
    },
    "kernelspec": {
      "name": "python3",
      "display_name": "Python 3"
    },
    "language_info": {
      "name": "python"
    }
  },
  "cells": [
    {
      "cell_type": "markdown",
      "metadata": {
        "id": "view-in-github",
        "colab_type": "text"
      },
      "source": [
        "<a href=\"https://colab.research.google.com/github/educbd/sts/blob/main/AdvStats_TEST_Python.ipynb\" target=\"_parent\"><img src=\"https://colab.research.google.com/assets/colab-badge.svg\" alt=\"Open In Colab\"/></a>"
      ]
    },
    {
      "cell_type": "markdown",
      "source": [
        "# Q1 Bayesian Probability"
      ],
      "metadata": {
        "id": "6vl5Jn-6hU7q"
      }
    },
    {
      "cell_type": "code",
      "source": [
        "# A spam filter blocks 96% of spam messages. However, it also incorrectly blocks\n",
        "# 5% of the messages that are not spam. If 80% of the messages that the spam filter\n",
        "# processes are spam, what is the probability that a message that is blocked is\n",
        "# actually spam?\n",
        "\n",
        "P_S = 0.8\n",
        "P_B_S = .96\n",
        "P_B_NS = 0.05\n",
        "\n",
        "P_S_B = P_B_S * P_S / ( P_B_S * P_S + P_B_NS * ( 1 - P_S ) )\n",
        "print(\"{:.2f}\".format(P_S_B*100),\"%\")"
      ],
      "metadata": {
        "colab": {
          "base_uri": "https://localhost:8080/"
        },
        "id": "yiFCephShgSY",
        "outputId": "a198b96b-4091-41a7-cef1-cbf9470177a7"
      },
      "execution_count": 11,
      "outputs": [
        {
          "output_type": "stream",
          "name": "stdout",
          "text": [
            "98.71 %\n"
          ]
        }
      ]
    },
    {
      "cell_type": "markdown",
      "source": [
        "# Q2 Poisson Distribution\n",
        "\n"
      ],
      "metadata": {
        "id": "OCRfi6t3592E"
      }
    },
    {
      "cell_type": "code",
      "execution_count": 17,
      "metadata": {
        "id": "YU1XaGHQz7da",
        "colab": {
          "base_uri": "https://localhost:8080/"
        },
        "outputId": "6c34f7dc-edde-4a5f-a53d-964b27c6bcf8"
      },
      "outputs": [
        {
          "output_type": "execute_result",
          "data": {
            "text/plain": [
              "0.5309654609591417"
            ]
          },
          "metadata": {},
          "execution_count": 17
        }
      ],
      "source": [
        "# A real estate agent store that shows an average 5 houses per week. Calculate the\n",
        "# probability that this agent will show 4 houses on a given day using the Poisson\n",
        "# distribution.\n",
        "\n",
        "from scipy.stats import poisson\n",
        "k = 4\n",
        "L = (5/7)\n",
        "(poisson.pmf(k, L))*100"
      ]
    },
    {
      "cell_type": "code",
      "source": [
        "k = 2\n",
        "n = 1000\n",
        "p = 1/20000\n",
        "L = n*p\n",
        "poisson.pmf(k, L)"
      ],
      "metadata": {
        "colab": {
          "base_uri": "https://localhost:8080/"
        },
        "id": "5upDm2YdWGAZ",
        "outputId": "90ac1cf6-0947-42f7-99f0-356d1b333613"
      },
      "execution_count": 26,
      "outputs": [
        {
          "output_type": "execute_result",
          "data": {
            "text/plain": [
              "0.001189036780625893"
            ]
          },
          "metadata": {},
          "execution_count": 26
        }
      ]
    },
    {
      "cell_type": "code",
      "source": [
        "k = 2\n",
        "n = 0\n",
        "p = 0\n",
        "L = 2.3*24\n",
        "(poisson.pmf(k, L))*100"
      ],
      "metadata": {
        "colab": {
          "base_uri": "https://localhost:8080/"
        },
        "id": "mjwe4VGiaGVj",
        "outputId": "b4fce045-ed09-4d9a-d747-400332421bac"
      },
      "execution_count": 35,
      "outputs": [
        {
          "output_type": "execute_result",
          "data": {
            "text/plain": [
              "1.621036369370801e-19"
            ]
          },
          "metadata": {},
          "execution_count": 35
        }
      ]
    },
    {
      "cell_type": "code",
      "source": [
        "k = 3\n",
        "n = 0\n",
        "p = 0\n",
        "L = 2.3*2\n",
        "(poisson.pmf(k, L))*100"
      ],
      "metadata": {
        "colab": {
          "base_uri": "https://localhost:8080/"
        },
        "id": "R4seIElJboLA",
        "outputId": "cb1d6ac4-6e4c-4b16-c721-433ff5b0fb38"
      },
      "execution_count": 34,
      "outputs": [
        {
          "output_type": "execute_result",
          "data": {
            "text/plain": [
              "16.30675806732757"
            ]
          },
          "metadata": {},
          "execution_count": 34
        }
      ]
    },
    {
      "cell_type": "code",
      "source": [
        "k = 1\n",
        "n = 0\n",
        "p = 0\n",
        "L = 2\n",
        "(poisson.pmf(k,L))*100"
      ],
      "metadata": {
        "colab": {
          "base_uri": "https://localhost:8080/"
        },
        "id": "UmUaGns3cz0i",
        "outputId": "cd6cb375-44bb-4dba-c1f5-157d658d30dc"
      },
      "execution_count": 41,
      "outputs": [
        {
          "output_type": "execute_result",
          "data": {
            "text/plain": [
              "27.06705664732254"
            ]
          },
          "metadata": {},
          "execution_count": 41
        }
      ]
    },
    {
      "cell_type": "code",
      "source": [
        "k = 3\n",
        "n = 0\n",
        "p = 0\n",
        "L = 2/7\n",
        "(poisson.pmf(k, L))*100"
      ],
      "metadata": {
        "colab": {
          "base_uri": "https://localhost:8080/"
        },
        "id": "j1OJHxBhgihP",
        "outputId": "f0c312fd-f0a5-455a-dfc2-0891a77b7ecf"
      },
      "execution_count": 40,
      "outputs": [
        {
          "output_type": "execute_result",
          "data": {
            "text/plain": [
              "0.29211945309049026"
            ]
          },
          "metadata": {},
          "execution_count": 40
        }
      ]
    },
    {
      "cell_type": "code",
      "source": [
        "k = 3\n",
        "n = 0\n",
        "p = 0\n",
        "L = 2\n",
        "(poisson.cdf(k, L))*100"
      ],
      "metadata": {
        "colab": {
          "base_uri": "https://localhost:8080/"
        },
        "id": "3wAIdsfyRhSA",
        "outputId": "5e49e83c-8bdb-470e-c9df-770c2a6384c9"
      },
      "execution_count": 44,
      "outputs": [
        {
          "output_type": "execute_result",
          "data": {
            "text/plain": [
              "85.7123460498547"
            ]
          },
          "metadata": {},
          "execution_count": 44
        }
      ]
    },
    {
      "cell_type": "markdown",
      "source": [
        "# Q3 Confidence Interval"
      ],
      "metadata": {
        "id": "gL2NwCVefIwo"
      }
    },
    {
      "cell_type": "code",
      "source": [
        "# A store randomly samples 603 shoppers over the course of a year and finds that\n",
        "# 142 of them made their visit because of a coupon they’d received in the mail.\n",
        "# 1) Check to confirm that the success-failure condition is satisfied.\n",
        "# 2) Calculate the Standard Error value.\n",
        "# 3) For a 95% confidence level, calculate the confidence interval.\n",
        "\n",
        "import numpy as np\n",
        "from scipy import stats\n",
        "\n",
        "n = 603     # shoppers sample\n",
        "n_n = 142   # samples of sample\n",
        "\n",
        "\n",
        "# -- 1) -- Check to confirm that the success-failure condition is satisfied.\n",
        "p = n_n/n\n",
        "if (n * (1-p)) >= 10 and (n*p) >= 10:\n",
        "  print(\"Success\")\n",
        "else:\n",
        "  print(\"Failure\")\n",
        "\n",
        "\n",
        "# -- 2) -- Calculate the Standard Error value.\n",
        "se = np.sqrt((p*(1-p))/n)\n",
        "print (\"Standar Error: \", se)\n",
        "\n",
        "\n",
        "# -- 3) -- For a 95% confidence level, calculate the confidence interval.\n",
        "cl = 0.95\n",
        "stats.norm.interval(cl, p, se)"
      ],
      "metadata": {
        "colab": {
          "base_uri": "https://localhost:8080/"
        },
        "id": "FKVVp095fMOf",
        "outputId": "c8e9ee0a-2117-4cc1-c3c8-bbcca304d4a0"
      },
      "execution_count": 25,
      "outputs": [
        {
          "output_type": "stream",
          "name": "stdout",
          "text": [
            "Success\n",
            "Standar Error:  0.01727900246846652\n"
          ]
        },
        {
          "output_type": "execute_result",
          "data": {
            "text/plain": [
              "(0.20162299803687436, 0.2693554430908205)"
            ]
          },
          "metadata": {},
          "execution_count": 25
        }
      ]
    },
    {
      "cell_type": "markdown",
      "source": [
        "# Q4 – Normal Distribution"
      ],
      "metadata": {
        "id": "Qg6i7p8S7mmB"
      }
    },
    {
      "cell_type": "code",
      "source": [
        "from scipy.stats import norm\n",
        "Z_a= -1.45\n",
        "percent_a = norm.cdf(Z_a) * 100\n",
        "print(percent_a)\n",
        "\n",
        "from scipy.stats import norm\n",
        "Z_b= 1.18\n",
        "percent_b =(1 - norm.cdf(Z_b)) * 100\n",
        "print(percent_b)\n",
        "\n",
        "from scipy.stats import norm\n",
        "\n",
        "Z_lower = -0.4\n",
        "Z_upper = 2.1\n",
        "percent_c =(norm.cdf(Z_upper) - norm.cdf(Z_lower))*100\n",
        "print(percent_c)"
      ],
      "metadata": {
        "colab": {
          "base_uri": "https://localhost:8080/"
        },
        "id": "-k2OwW2A59Vq",
        "outputId": "68bf6e96-b96d-4b41-c9b1-b6fd89ce55b4"
      },
      "execution_count": 5,
      "outputs": [
        {
          "output_type": "stream",
          "name": "stdout",
          "text": [
            "7.352925960964836\n",
            "11.900010745520074\n",
            "63.75573210475076\n"
          ]
        }
      ]
    },
    {
      "cell_type": "code",
      "source": [
        "from scipy.stats import norm\n",
        "Z_b= 1.18\n",
        "norm.sf(Z_b)\n",
        "print(percent_b)"
      ],
      "metadata": {
        "colab": {
          "base_uri": "https://localhost:8080/"
        },
        "id": "ju3fdpDeOMQF",
        "outputId": "07a16bec-97c4-4ae1-aa70-f62e728b2d9b"
      },
      "execution_count": 6,
      "outputs": [
        {
          "output_type": "stream",
          "name": "stdout",
          "text": [
            "11.900010745520074\n"
          ]
        }
      ]
    },
    {
      "cell_type": "code",
      "source": [
        "norm.sf(0)"
      ],
      "metadata": {
        "colab": {
          "base_uri": "https://localhost:8080/"
        },
        "id": "d95msHRcOavQ",
        "outputId": "ae12fd2e-0cbe-4037-81d0-8912b85adb1f"
      },
      "execution_count": 7,
      "outputs": [
        {
          "output_type": "execute_result",
          "data": {
            "text/plain": [
              "0.5"
            ]
          },
          "metadata": {},
          "execution_count": 7
        }
      ]
    },
    {
      "cell_type": "code",
      "source": [
        "norm.sf(-3)"
      ],
      "metadata": {
        "colab": {
          "base_uri": "https://localhost:8080/"
        },
        "id": "3HfAUrknOiPA",
        "outputId": "07cb2e02-5f34-4dc4-8154-fd55c92a33f2"
      },
      "execution_count": 8,
      "outputs": [
        {
          "output_type": "execute_result",
          "data": {
            "text/plain": [
              "0.9986501019683699"
            ]
          },
          "metadata": {},
          "execution_count": 8
        }
      ]
    },
    {
      "cell_type": "code",
      "source": [
        "norm.cdf(-3)"
      ],
      "metadata": {
        "colab": {
          "base_uri": "https://localhost:8080/"
        },
        "id": "xk6anyDeOqnT",
        "outputId": "439d19a1-ece2-4671-a9f2-67d18a08bf45"
      },
      "execution_count": 9,
      "outputs": [
        {
          "output_type": "execute_result",
          "data": {
            "text/plain": [
              "0.0013498980316300933"
            ]
          },
          "metadata": {},
          "execution_count": 9
        }
      ]
    },
    {
      "cell_type": "markdown",
      "source": [
        "# Q5 – Geometric Distribution"
      ],
      "metadata": {
        "id": "O0AOauvn8bgz"
      }
    },
    {
      "cell_type": "code",
      "source": [
        "from scipy.stats import geom\n",
        "\n",
        "p = 0.15\n",
        "n = 12\n",
        "\n",
        "geom.pmf(n,p)"
      ],
      "metadata": {
        "colab": {
          "base_uri": "https://localhost:8080/"
        },
        "id": "9FngmzqR8x1k",
        "outputId": "f3fbccb5-2d15-4809-9130-b08767924727"
      },
      "execution_count": 10,
      "outputs": [
        {
          "output_type": "execute_result",
          "data": {
            "text/plain": [
              "0.025101486553442128"
            ]
          },
          "metadata": {},
          "execution_count": 10
        }
      ]
    },
    {
      "cell_type": "code",
      "source": [
        "import numpy as np\n",
        "\n",
        "p =0.15\n",
        "n=12\n",
        "\n",
        "p * np.power(1-p, n-1)"
      ],
      "metadata": {
        "colab": {
          "base_uri": "https://localhost:8080/"
        },
        "id": "h3CKqqoOg9HM",
        "outputId": "9e7371e5-e72a-479b-b066-3ebf75425445"
      },
      "execution_count": 11,
      "outputs": [
        {
          "output_type": "execute_result",
          "data": {
            "text/plain": [
              "0.025101486553442128"
            ]
          },
          "metadata": {},
          "execution_count": 11
        }
      ]
    },
    {
      "cell_type": "code",
      "source": [
        "import numpy as np\n",
        "\n",
        "# P(success on the nth trial) = p * (1- p)^(n-1)\n",
        "result = p * np.power((1-p), (n-1))\n",
        "print(f'P(success on the 12th trial): {result: .2%}')"
      ],
      "metadata": {
        "colab": {
          "base_uri": "https://localhost:8080/"
        },
        "id": "WavzA4Q6iUsx",
        "outputId": "c7a69762-4ae0-429e-c4fd-91159249e78e"
      },
      "execution_count": 12,
      "outputs": [
        {
          "output_type": "stream",
          "name": "stdout",
          "text": [
            "P(success on the 12th trial):  2.51%\n"
          ]
        }
      ]
    },
    {
      "cell_type": "markdown",
      "source": [
        "# Q6 - Binomial Distribution"
      ],
      "metadata": {
        "id": "3gp9Irn_TXOj"
      }
    },
    {
      "cell_type": "code",
      "source": [
        "from scipy.stats import binom\n",
        "k = 2\n",
        "n = 1000\n",
        "p = 1/20000\n",
        "\n",
        "binom.pmf(k, n, p)"
      ],
      "metadata": {
        "colab": {
          "base_uri": "https://localhost:8080/"
        },
        "id": "bqR0WcgUTf1L",
        "outputId": "5db8cf9b-1060-46aa-8b4e-c34f77976f48"
      },
      "execution_count": 30,
      "outputs": [
        {
          "output_type": "execute_result",
          "data": {
            "text/plain": [
              "0.0011879650525223589"
            ]
          },
          "metadata": {},
          "execution_count": 30
        }
      ]
    },
    {
      "cell_type": "code",
      "source": [
        "k = 36\n",
        "n = 50\n",
        "p = 0.5\n",
        "\n",
        "(binom.pmf(k, n, p))*100"
      ],
      "metadata": {
        "colab": {
          "base_uri": "https://localhost:8080/"
        },
        "id": "dzgN7s3mZSbk",
        "outputId": "fd212466-9b25-42ec-9fe3-729ab7c644aa"
      },
      "execution_count": 29,
      "outputs": [
        {
          "output_type": "execute_result",
          "data": {
            "text/plain": [
              "0.08329742729351612"
            ]
          },
          "metadata": {},
          "execution_count": 29
        }
      ]
    },
    {
      "cell_type": "markdown",
      "source": [
        "#  Q6 – Negative Binomial Distribution"
      ],
      "metadata": {
        "id": "DAxDBiZb-s8u"
      }
    },
    {
      "cell_type": "code",
      "source": [
        "from scipy.stats import nbinom\n",
        "n = 10\n",
        "k = 3\n",
        "f = n-k\n",
        "p = 0.15\n",
        "print(nbinom.pmf(f,k,p))"
      ],
      "metadata": {
        "colab": {
          "base_uri": "https://localhost:8080/"
        },
        "id": "GrjKENa4P6ej",
        "outputId": "6bb214e8-ea3c-4005-fb39-e9bd122537b8"
      },
      "execution_count": 24,
      "outputs": [
        {
          "output_type": "stream",
          "name": "stdout",
          "text": [
            "0.038950116226171845\n"
          ]
        }
      ]
    },
    {
      "cell_type": "code",
      "source": [
        "import numpy as np\n",
        "from scipy.special import comb\n",
        "\n",
        "p=0.15\n",
        "n=10\n",
        "k=3\n",
        "\n",
        "comb(n-1,k-1) * np.power(p,k) * np.power((1-p),(n-k))"
      ],
      "metadata": {
        "colab": {
          "base_uri": "https://localhost:8080/"
        },
        "id": "0FV6BZFSSjR6",
        "outputId": "b81cf022-c05c-45f2-96dd-49736eff63c3"
      },
      "execution_count": 16,
      "outputs": [
        {
          "output_type": "execute_result",
          "data": {
            "text/plain": [
              "0.03895011622617186"
            ]
          },
          "metadata": {},
          "execution_count": 16
        }
      ]
    },
    {
      "cell_type": "markdown",
      "source": [
        "# Q7 - Confidence Interval"
      ],
      "metadata": {
        "id": "aHiftc_wACpU"
      }
    },
    {
      "cell_type": "code",
      "source": [
        "p = 0.45\n",
        "se = 0.012\n",
        "z = 1.96\n",
        "\n",
        "lower_limit = p - se*z\n",
        "upper_limit = p + se*z\n",
        "\n",
        "print(lower_limit,upper_limit)"
      ],
      "metadata": {
        "colab": {
          "base_uri": "https://localhost:8080/"
        },
        "id": "2P2MZJfMS73s",
        "outputId": "3b91e576-430f-4599-a630-3dabd7fc1ada"
      },
      "execution_count": 17,
      "outputs": [
        {
          "output_type": "stream",
          "name": "stdout",
          "text": [
            "0.42648 0.47352\n"
          ]
        }
      ]
    },
    {
      "cell_type": "code",
      "source": [
        "import scipy\n",
        "ph = 0.45\n",
        "se = 0.012\n",
        "ci = 0.68\n",
        "\n",
        "scipy.stats.norm.interval(ci, p, se)"
      ],
      "metadata": {
        "colab": {
          "base_uri": "https://localhost:8080/"
        },
        "id": "anFiLDUyofuo",
        "outputId": "6495e88c-bc66-44c2-8875-a9d284d15606"
      },
      "execution_count": 56,
      "outputs": [
        {
          "output_type": "execute_result",
          "data": {
            "text/plain": [
              "(0.2235557259653304, 0.24742271516236447)"
            ]
          },
          "metadata": {},
          "execution_count": 56
        }
      ]
    },
    {
      "cell_type": "code",
      "source": [
        "import scipy\n",
        "\n",
        "p_hat = 0.45\n",
        "se = 0.012\n",
        "ci = 0.95\n",
        "\n",
        "scipy.stats.norm.interval(ci, p, se)"
      ],
      "metadata": {
        "colab": {
          "base_uri": "https://localhost:8080/"
        },
        "id": "w6TqGDvrBKNk",
        "outputId": "023e77cc-91cb-4733-ea15-34f4cf3501f9"
      },
      "execution_count": 55,
      "outputs": [
        {
          "output_type": "execute_result",
          "data": {
            "text/plain": [
              "(0.2119696527493668, 0.2590087883783281)"
            ]
          },
          "metadata": {},
          "execution_count": 55
        }
      ]
    },
    {
      "cell_type": "markdown",
      "source": [
        "# Miscellaneous\n"
      ],
      "metadata": {
        "id": "DbXGHceEgTLH"
      }
    },
    {
      "cell_type": "code",
      "source": [
        "import math\n",
        "\n",
        "# Any X choose 0 will result in 1\n",
        "result = math.comb(11, 0)\n",
        "print(result)"
      ],
      "metadata": {
        "id": "HMEC-2Cf56BV",
        "colab": {
          "base_uri": "https://localhost:8080/"
        },
        "outputId": "c8ab1525-ea3d-45f9-dab7-1f3e72d44071"
      },
      "execution_count": 19,
      "outputs": [
        {
          "output_type": "stream",
          "name": "stdout",
          "text": [
            "1\n"
          ]
        }
      ]
    },
    {
      "cell_type": "code",
      "source": [
        "math.comb(9, 2)"
      ],
      "metadata": {
        "colab": {
          "base_uri": "https://localhost:8080/"
        },
        "id": "aiprQQoeaRGH",
        "outputId": "9fa86df0-327c-43ac-f076-7299b1253967"
      },
      "execution_count": 20,
      "outputs": [
        {
          "output_type": "execute_result",
          "data": {
            "text/plain": [
              "36"
            ]
          },
          "metadata": {},
          "execution_count": 20
        }
      ]
    }
  ]
}